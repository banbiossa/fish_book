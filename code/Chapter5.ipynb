{
 "cells": [
  {
   "cell_type": "markdown",
   "metadata": {},
   "source": [
    "# What to do\n",
    "- chapter 5 of the fish book"
   ]
  },
  {
   "cell_type": "markdown",
   "metadata": {},
   "source": [
    "# Layers"
   ]
  },
  {
   "cell_type": "markdown",
   "metadata": {},
   "source": [
    "## Multiple layers"
   ]
  },
  {
   "cell_type": "code",
   "execution_count": 13,
   "metadata": {},
   "outputs": [],
   "source": [
    "class MulLayer:\n",
    "    def __init__(self):\n",
    "        self.x = None\n",
    "        self.y = None\n",
    "        \n",
    "    def forward(self, x, y):\n",
    "        self.x = x\n",
    "        self.y = y\n",
    "        out = x * y\n",
    "        \n",
    "        return out\n",
    "    \n",
    "    def backward(self, dout):\n",
    "        dx = dout * self.y # x and y are inverted, because d(xy)/dx = y\n",
    "        dy = dout * self.x # d(xy)/dy = x\n",
    "        \n",
    "        return dx, dy"
   ]
  },
  {
   "cell_type": "code",
   "execution_count": 14,
   "metadata": {},
   "outputs": [],
   "source": [
    "apple = 100\n",
    "apple_num = 2\n",
    "tax = 1.1\n",
    "\n",
    "# layer\n",
    "mul_layer_apple = MulLayer()\n",
    "mul_tax_layer = MulLayer()"
   ]
  },
  {
   "cell_type": "code",
   "execution_count": 15,
   "metadata": {},
   "outputs": [
    {
     "data": {
      "text/plain": [
       "220.00000000000003"
      ]
     },
     "execution_count": 15,
     "metadata": {},
     "output_type": "execute_result"
    }
   ],
   "source": [
    "# forward\n",
    "apple_price = mul_layer_apple.forward(apple, apple_num)\n",
    "price = mul_tax_layer.forward(apple_price, tax)\n",
    "\n",
    "price"
   ]
  },
  {
   "cell_type": "code",
   "execution_count": 16,
   "metadata": {},
   "outputs": [
    {
     "data": {
      "text/plain": [
       "(2.2, 110.00000000000001, 200)"
      ]
     },
     "execution_count": 16,
     "metadata": {},
     "output_type": "execute_result"
    }
   ],
   "source": [
    "# backward\n",
    "dprice = 1\n",
    "dapple_price, dtax = mul_tax_layer.backward(dprice)\n",
    "dapple, dapple_num = mul_layer_apple.backward(dapple_price)\n",
    "dapple, dapple_num, dtax"
   ]
  },
  {
   "cell_type": "markdown",
   "metadata": {},
   "source": [
    "## Add layers"
   ]
  },
  {
   "cell_type": "code",
   "execution_count": 17,
   "metadata": {},
   "outputs": [],
   "source": [
    "class AddLayer:\n",
    "    def __init__(self):\n",
    "        pass\n",
    "    \n",
    "    def forward(self, x, y):\n",
    "        out = x + y\n",
    "        return out\n",
    "    \n",
    "    def backward(self, dout):\n",
    "        dx = dout * 1 # d(x + y)/dx = 1\n",
    "        dy = dout * 1 # d(x+y)/dy = 1\n",
    "        return dx, dy"
   ]
  },
  {
   "cell_type": "code",
   "execution_count": 18,
   "metadata": {},
   "outputs": [],
   "source": [
    "apple = 100\n",
    "apple_num = 2\n",
    "orange = 150\n",
    "orange_num = 3\n",
    "tax = 1.1"
   ]
  },
  {
   "cell_type": "code",
   "execution_count": 19,
   "metadata": {},
   "outputs": [],
   "source": [
    "# layer\n",
    "mul_apple_layer = MulLayer()\n",
    "mul_orange_layer = MulLayer()\n",
    "add_apple_orange_layer = AddLayer()\n",
    "mul_tax_layer = MulLayer()"
   ]
  },
  {
   "cell_type": "code",
   "execution_count": 20,
   "metadata": {},
   "outputs": [],
   "source": [
    "# forward \n",
    "apple_price = mul_apple_layer.forward(apple, apple_num)\n",
    "orange_price = mul_orange_layer.forward(orange, orange_num)\n",
    "all_price = add_apple_orange_layer.forward(apple_price, orange_price)\n",
    "price = mul_tax_layer.forward(all_price, tax)"
   ]
  },
  {
   "cell_type": "code",
   "execution_count": 21,
   "metadata": {},
   "outputs": [],
   "source": [
    "# backward\n",
    "dprice = 1\n",
    "dall_price, dtax = mul_tax_layer.backward(dprice)\n",
    "dapple_price, dorange_price = add_apple_orange_layer.backward(dall_price)\n",
    "dorange, dorange_num  = mul_orange_layer.backward(dorange_price)\n",
    "dapple, dapple_num = mul_apple_layer.backward(dapple_price)"
   ]
  },
  {
   "cell_type": "code",
   "execution_count": 22,
   "metadata": {},
   "outputs": [
    {
     "name": "stdout",
     "output_type": "stream",
     "text": [
      "715.0000000000001\n",
      "110.00000000000001 2.2 3.3000000000000003 165.0 650\n"
     ]
    }
   ],
   "source": [
    "print(price)\n",
    "print(dapple_num, dapple, dorange, dorange_num, dtax)"
   ]
  },
  {
   "cell_type": "markdown",
   "metadata": {},
   "source": [
    "## Activation Layer"
   ]
  },
  {
   "cell_type": "code",
   "execution_count": 23,
   "metadata": {},
   "outputs": [],
   "source": [
    "class Relu:\n",
    "    def __init__(self):\n",
    "        self.mask = None\n",
    "        \n",
    "    def foward(self, x):\n",
    "        self.mask = (x <= 0)\n",
    "        out = x.copy()\n",
    "        out[self.mask] = 0\n",
    "        \n",
    "        return out\n",
    "    \n",
    "    def backward(self, dout):\n",
    "        dout[self.mask] = 0\n",
    "        dx = dout\n",
    "        \n",
    "        return dx\n",
    "    \n",
    "    \n",
    "    "
   ]
  },
  {
   "cell_type": "code",
   "execution_count": 24,
   "metadata": {},
   "outputs": [],
   "source": [
    "import numpy as np"
   ]
  },
  {
   "cell_type": "code",
   "execution_count": 25,
   "metadata": {},
   "outputs": [
    {
     "data": {
      "text/plain": [
       "array([[ 1. , -0.5],\n",
       "       [-2. ,  3. ]])"
      ]
     },
     "execution_count": 25,
     "metadata": {},
     "output_type": "execute_result"
    }
   ],
   "source": [
    "x = np.array([[1.0, -0.5], [-2.0, 3.0]])\n",
    "x"
   ]
  },
  {
   "cell_type": "code",
   "execution_count": 26,
   "metadata": {},
   "outputs": [],
   "source": [
    "mask = (x <= 0)"
   ]
  },
  {
   "cell_type": "code",
   "execution_count": 27,
   "metadata": {},
   "outputs": [
    {
     "data": {
      "text/plain": [
       "array([[False,  True],\n",
       "       [ True, False]], dtype=bool)"
      ]
     },
     "execution_count": 27,
     "metadata": {},
     "output_type": "execute_result"
    }
   ],
   "source": [
    "mask"
   ]
  },
  {
   "cell_type": "markdown",
   "metadata": {},
   "source": [
    "## Sigmoid Layer"
   ]
  },
  {
   "cell_type": "code",
   "execution_count": 28,
   "metadata": {},
   "outputs": [],
   "source": [
    "class Sigmoid:\n",
    "    def __init__(self):\n",
    "        self.out = None\n",
    "        \n",
    "    def forward(self, x):\n",
    "        out = 1/(1+np.exp(-x))\n",
    "        self.out  = out\n",
    "        \n",
    "        return out\n",
    "    \n",
    "    def backward(self, dout):\n",
    "        dx = dout * (1.0 - self.out) * self.out\n",
    "    \n",
    "        return dx\n",
    "    "
   ]
  },
  {
   "cell_type": "markdown",
   "metadata": {},
   "source": [
    "## Affine Layers"
   ]
  },
  {
   "cell_type": "code",
   "execution_count": 29,
   "metadata": {},
   "outputs": [
    {
     "data": {
      "text/plain": [
       "array([[ 0,  0,  0],\n",
       "       [10, 10, 10]])"
      ]
     },
     "execution_count": 29,
     "metadata": {},
     "output_type": "execute_result"
    }
   ],
   "source": [
    "X_dot_W = np.array([[0,0,0], [10,10,10]])\n",
    "X_dot_W"
   ]
  },
  {
   "cell_type": "code",
   "execution_count": 30,
   "metadata": {},
   "outputs": [
    {
     "data": {
      "text/plain": [
       "array([1, 2, 3])"
      ]
     },
     "execution_count": 30,
     "metadata": {},
     "output_type": "execute_result"
    }
   ],
   "source": [
    "B = np.array([1,2,3])\n",
    "B"
   ]
  },
  {
   "cell_type": "code",
   "execution_count": 31,
   "metadata": {},
   "outputs": [
    {
     "data": {
      "text/plain": [
       "array([[ 1,  2,  3],\n",
       "       [11, 12, 13]])"
      ]
     },
     "execution_count": 31,
     "metadata": {},
     "output_type": "execute_result"
    }
   ],
   "source": [
    "X_dot_W + B"
   ]
  },
  {
   "cell_type": "code",
   "execution_count": 32,
   "metadata": {},
   "outputs": [
    {
     "data": {
      "text/plain": [
       "array([[1, 2, 3],\n",
       "       [4, 5, 6]])"
      ]
     },
     "execution_count": 32,
     "metadata": {},
     "output_type": "execute_result"
    }
   ],
   "source": [
    "dY = np.array([[1,2,3], [4,5,6]])\n",
    "dY"
   ]
  },
  {
   "cell_type": "code",
   "execution_count": 33,
   "metadata": {},
   "outputs": [
    {
     "data": {
      "text/plain": [
       "array([5, 7, 9])"
      ]
     },
     "execution_count": 33,
     "metadata": {},
     "output_type": "execute_result"
    }
   ],
   "source": [
    "dB = np.sum(dY, axis = 0)\n",
    "dB"
   ]
  },
  {
   "cell_type": "code",
   "execution_count": 41,
   "metadata": {},
   "outputs": [],
   "source": [
    "class Affine:\n",
    "    def __init__(self, W, b):\n",
    "        self.W = W\n",
    "        self.b = b\n",
    "        self.x = None\n",
    "        self.dW = None\n",
    "        self.db = None\n",
    "        \n",
    "    def forward(self, x):\n",
    "        self.x = x\n",
    "        out = np.dot(x, self.W) + self.b\n",
    "        \n",
    "        return out\n",
    "    \n",
    "    def backward(self, dout):\n",
    "        dx = np.dot(dout, self.W.T)\n",
    "        self.dW = np.dot(self.x.T, dout)\n",
    "        self.db = np.sum(dout, axis = 0)\n",
    "        \n",
    "        return dx"
   ]
  },
  {
   "cell_type": "markdown",
   "metadata": {},
   "source": [
    "## Softmax with loss"
   ]
  },
  {
   "cell_type": "code",
   "execution_count": null,
   "metadata": {},
   "outputs": [],
   "source": []
  },
  {
   "cell_type": "code",
   "execution_count": 35,
   "metadata": {},
   "outputs": [],
   "source": [
    "\n",
    "class SoftmaxWithLoss:\n",
    "    def __init__(self):\n",
    "        self.loss = None\n",
    "        self.y = None\n",
    "        self.t = None\n",
    "        \n",
    "    def foward(self, x, t):\n",
    "        self.t = t\n",
    "        self.y = softmax(x)\n",
    "        self.loss = cross_entropy_error(self.y, self.t)\n",
    "        \n",
    "        return self.loss\n",
    "    \n",
    "    def backward(self, dout = 1):\n",
    "        batch_size = self.t.shape[0]\n",
    "        dx = (self.y - self.t)/batch_size\n",
    "        \n",
    "        return dx"
   ]
  },
  {
   "cell_type": "markdown",
   "metadata": {},
   "source": [
    "# Implementation"
   ]
  },
  {
   "cell_type": "markdown",
   "metadata": {},
   "source": [
    "## class"
   ]
  },
  {
   "cell_type": "code",
   "execution_count": 57,
   "metadata": {},
   "outputs": [],
   "source": [
    "import sys, os\n",
    "sys.path.append(os.pardir)\n",
    "import numpy as np\n",
    "from common.layers import *\n",
    "from common.gradient import numerical_gradient\n",
    "from collections import OrderedDict\n"
   ]
  },
  {
   "cell_type": "code",
   "execution_count": 126,
   "metadata": {},
   "outputs": [],
   "source": [
    "class TwoLayerNet:\n",
    "    def __init__(self, input_size, hidden_size, output_size, weight_init_std=0.01):\n",
    "        # init\n",
    "        self.params = {}\n",
    "        self.params['W1'] = weight_init_std * np.random.randn(input_size, hidden_size)\n",
    "        self.params['b1'] = np.zeros(hidden_size)\n",
    "        self.params['W2'] = weight_init_std * np.random.randn(hidden_size, output_size)\n",
    "        self.params['b2'] = np.zeros(output_size)\n",
    "        \n",
    "        # Layer\n",
    "        self.layers = OrderedDict()\n",
    "        self.layers['Affine1'] = Affine(self.params['W1'], self.params['b1'])\n",
    "        self.layers['Relu1'] = Relu()\n",
    "        self.layers['Affine2'] = Affine(self.params['W2'], self.params['b2'])\n",
    "        \n",
    "        self.lastLayer = SoftmaxWithLoss()\n",
    "    \n",
    "    def predict(self, x):\n",
    "        for layer in self.layers.values():\n",
    "            x = layer.forward(x)\n",
    "            \n",
    "        return x\n",
    "    \n",
    "    # x: input, t:teacher\n",
    "    def loss(self, x, t):\n",
    "        y = self.predict(x)\n",
    "        return self.lastLayer.forward(y, t)\n",
    "    \n",
    "    def accuracy(self, x, t):\n",
    "        y = self.predict(x)\n",
    "        y = np.argmax(y, axis = 1)\n",
    "        if t.ndim !=1 : t = np.argmax(t, axis = 1)\n",
    "        \n",
    "        accuracy = np.sum(y == t)/float(x.shape[0])\n",
    "        return accuracy\n",
    "        \n",
    "    def numerical_gradient(self, x, t):\n",
    "        loss_W = lambda W: self.loss(x, t)\n",
    "        \n",
    "        grads = {}\n",
    "        grads['W1'] = numerical_gradient(loss_W, self.params['W1'])\n",
    "        grads['b1'] = numerical_gradient(loss_W, self.params['b1'])\n",
    "        grads['W2'] = numerical_gradient(loss_W, self.params['W2'])\n",
    "        grads['b2'] = numerical_gradient(loss_W, self.params['b2'])\n",
    "        \n",
    "        return grads\n",
    "    \n",
    "    def gradient(self, x, t):\n",
    "        # foward\n",
    "        self.loss(x, t)\n",
    "        \n",
    "        # backward\n",
    "        dout = 1\n",
    "        dout = self.lastLayer.backward(dout)\n",
    "        \n",
    "        layers = list(self.layers.values())\n",
    "        layers.reverse()\n",
    "        for layer in layers:\n",
    "            dout =layer.backward(dout)\n",
    "        \n",
    "        # settings\n",
    "        grads = {}\n",
    "        grads['W1'] = self.layers['Affine1'].dW\n",
    "        grads['b1'] = self.layers['Affine1'].db\n",
    "        grads['W2'] = self.layers['Affine2'].dW\n",
    "        grads['b2'] = self.layers['Affine2'].db\n",
    "        \n",
    "        return grads\n",
    "        "
   ]
  },
  {
   "cell_type": "markdown",
   "metadata": {},
   "source": [
    "## Gradient check"
   ]
  },
  {
   "cell_type": "code",
   "execution_count": 127,
   "metadata": {},
   "outputs": [],
   "source": [
    "from dataset.mnist import load_mnist\n"
   ]
  },
  {
   "cell_type": "code",
   "execution_count": 128,
   "metadata": {},
   "outputs": [],
   "source": [
    "(x_train, t_train), (x_test, t_test) = load_mnist(normalize=True, one_hot_label=True)\n",
    "network = TwoLayerNet(input_size=784, hidden_size=50, output_size=10)\n",
    "\n",
    "x_batch = x_train[:3]\n",
    "t_batch = t_train[:3]"
   ]
  },
  {
   "cell_type": "code",
   "execution_count": 129,
   "metadata": {},
   "outputs": [
    {
     "data": {
      "text/plain": [
       "(3, 10)"
      ]
     },
     "execution_count": 129,
     "metadata": {},
     "output_type": "execute_result"
    }
   ],
   "source": [
    "network.predict(x_batch) # gets the result of hidden\n",
    "y = network.predict(x_batch) # gets the result of hidden\n",
    "network.accuracy(x_batch, t_batch)\n",
    "#network.loss(x_batch, t_batch)\n",
    "#cross_entropy_error2(y, t_batch)\n",
    "y.ndim\n",
    "t_batch.size\n",
    "x_batch.size\n",
    "batch_size = y.shape[0]\n",
    "\n",
    "np.arange(batch_size)\n",
    "y.shape"
   ]
  },
  {
   "cell_type": "code",
   "execution_count": 130,
   "metadata": {},
   "outputs": [],
   "source": [
    "def cross_entropy_error2(y, t):\n",
    "    if y.ndim == 1:\n",
    "        t = t.reshape(1, t.size)\n",
    "        y = y.reshape(1, y.size)\n",
    "        \n",
    "    # 教師データがone-hot-vectorの場合、正解ラベルのインデックスに変換\n",
    "    if t.size == y.size:\n",
    "        t = t.argmax(axis=1)\n",
    "             \n",
    "    batch_size = y.shape[0]\n",
    "    return -np.sum(np.log(y[np.arange(batch_size), t] + 1e-7)) / batch_size\n",
    "\n",
    "class SoftmaxWithLoss2:\n",
    "    def __init__(self):\n",
    "        self.loss = None\n",
    "        self.y = None # softmaxの出力\n",
    "        self.t = None # 教師データ\n",
    "\n",
    "    def forward(self, x, t):\n",
    "        self.t = t\n",
    "        self.y = softmax(x)\n",
    "        self.loss = cross_entropy_error2(self.y, self.t)\n",
    "        \n",
    "        return self.loss\n",
    "\n",
    "    def backward(self, dout=1):\n",
    "        batch_size = self.t.shape[0]\n",
    "        if self.t.size == self.y.size: # 教師データがone-hot-vectorの場合\n",
    "            dx = (self.y - self.t) / batch_size\n",
    "        else:\n",
    "            dx = self.y.copy()\n",
    "            dx[np.arange(batch_size), self.t] -= 1\n",
    "            dx = dx / batch_size\n",
    "        \n",
    "        return dx\n"
   ]
  },
  {
   "cell_type": "code",
   "execution_count": 131,
   "metadata": {},
   "outputs": [
    {
     "data": {
      "text/plain": [
       "array([[ 0.,  0.,  0.,  0.,  0.,  1.,  0.,  0.,  0.,  0.],\n",
       "       [ 1.,  0.,  0.,  0.,  0.,  0.,  0.,  0.,  0.,  0.],\n",
       "       [ 0.,  0.,  0.,  0.,  1.,  0.,  0.,  0.,  0.,  0.]])"
      ]
     },
     "execution_count": 131,
     "metadata": {},
     "output_type": "execute_result"
    }
   ],
   "source": [
    "t_batch"
   ]
  },
  {
   "cell_type": "code",
   "execution_count": 132,
   "metadata": {},
   "outputs": [],
   "source": [
    "grad_numerical = network.numerical_gradient(x_batch, t_batch)"
   ]
  },
  {
   "cell_type": "code",
   "execution_count": 133,
   "metadata": {},
   "outputs": [],
   "source": [
    "grad_backprop = network.gradient(x_batch, t_batch)"
   ]
  },
  {
   "cell_type": "code",
   "execution_count": 134,
   "metadata": {},
   "outputs": [
    {
     "name": "stdout",
     "output_type": "stream",
     "text": [
      "W1:4.53877887085e-10\n",
      "b1:2.23014860682e-09\n",
      "W2:6.40085429966e-09\n",
      "b2:1.40329497596e-07\n"
     ]
    }
   ],
   "source": [
    "for key in grad_numerical.keys():\n",
    "    diff = np.average(np.abs(grad_backprop[key] - grad_numerical[key]))\n",
    "    print(key + \":\" + str(diff))"
   ]
  },
  {
   "cell_type": "code",
   "execution_count": 135,
   "metadata": {},
   "outputs": [
    {
     "data": {
      "text/plain": [
       "{'W1': array([[ 0.,  0.,  0., ...,  0.,  0.,  0.],\n",
       "        [ 0.,  0.,  0., ...,  0.,  0.,  0.],\n",
       "        [ 0.,  0.,  0., ...,  0.,  0.,  0.],\n",
       "        ..., \n",
       "        [ 0.,  0.,  0., ...,  0.,  0.,  0.],\n",
       "        [ 0.,  0.,  0., ...,  0.,  0.,  0.],\n",
       "        [ 0.,  0.,  0., ...,  0.,  0.,  0.]]),\n",
       " 'W2': array([[ 0.00202149,  0.00201981,  0.00203103,  0.00203203,  0.00204059,\n",
       "         -0.01826322,  0.00202498,  0.0020294 ,  0.00203921,  0.00202468],\n",
       "        [-0.03723507,  0.01067248,  0.01072665,  0.01073696,  0.00198079,\n",
       "         -0.03982466,  0.01074107,  0.01071054,  0.01076851,  0.01072271],\n",
       "        [-0.00834992,  0.01357882,  0.01363357,  0.01367416, -0.0367948 ,\n",
       "         -0.05042833,  0.01366736,  0.01367166,  0.01370503,  0.01364245],\n",
       "        [-0.02499331,  0.00874912,  0.00878509,  0.00880849, -0.0202487 ,\n",
       "         -0.01634216,  0.00881776,  0.00879859,  0.00882797,  0.00879715],\n",
       "        [ 0.00027642,  0.00027351,  0.00027394,  0.00027595, -0.00248012,\n",
       "          0.00027579,  0.00027628,  0.00027684,  0.00027606,  0.00027533],\n",
       "        [-0.0492768 ,  0.01710228,  0.01718185,  0.01721164, -0.01606377,\n",
       "         -0.05499926,  0.01721911,  0.01718154,  0.017257  ,  0.01718641],\n",
       "        [-0.03098421,  0.00342571,  0.00344356,  0.00344457,  0.00345131,\n",
       "          0.00342838,  0.00345939,  0.00342828,  0.00345413,  0.00344889],\n",
       "        [ 0.0010431 ,  0.00370802,  0.00371886,  0.00373728, -0.02076048,\n",
       "         -0.00639829,  0.00373784,  0.00374256,  0.00374263,  0.00372848],\n",
       "        [-0.00563558,  0.00062309,  0.00062633,  0.00062652,  0.00062774,\n",
       "          0.00062357,  0.00062921,  0.00062356,  0.00062826,  0.0006273 ],\n",
       "        [ 0.0013926 ,  0.00137793,  0.00138011,  0.00139022, -0.01249473,\n",
       "          0.00138939,  0.00139187,  0.00139468,  0.00139079,  0.00138712],\n",
       "        [ 0.        ,  0.        ,  0.        ,  0.        ,  0.        ,\n",
       "          0.        ,  0.        ,  0.        ,  0.        ,  0.        ],\n",
       "        [-0.01857058,  0.00507447,  0.00509104,  0.00511167, -0.02226782,\n",
       "          0.0050989 ,  0.00512513,  0.00510927,  0.00511938,  0.00510854],\n",
       "        [ 0.        ,  0.        ,  0.        ,  0.        ,  0.        ,\n",
       "          0.        ,  0.        ,  0.        ,  0.        ,  0.        ],\n",
       "        [-0.04149188,  0.0161312 ,  0.01620559,  0.01623521, -0.01723995,\n",
       "         -0.05477598,  0.01623935,  0.01620947,  0.01627772,  0.01620927],\n",
       "        [-0.01293849,  0.0084925 ,  0.00853267,  0.00854724, -0.00730089,\n",
       "         -0.03951049,  0.00854166,  0.00853595,  0.00857086,  0.00852899],\n",
       "        [-0.03680352,  0.0102093 ,  0.01026439,  0.01026853,  0.01030115,\n",
       "         -0.04530391,  0.01026946,  0.01023906,  0.01030124,  0.01025431],\n",
       "        [-0.00353293,  0.00620394,  0.00621742,  0.00625582, -0.04607846,\n",
       "          0.00589401,  0.00626616,  0.00626796,  0.00626083,  0.00624525],\n",
       "        [ 0.        ,  0.        ,  0.        ,  0.        ,  0.        ,\n",
       "          0.        ,  0.        ,  0.        ,  0.        ,  0.        ],\n",
       "        [-0.00663216,  0.00256715,  0.00257454,  0.00258691, -0.01403327,\n",
       "          0.00258158,  0.00259286,  0.00258789,  0.00259016,  0.00258436],\n",
       "        [ 0.00225947,  0.00225759,  0.00227013,  0.00227126,  0.00228082,\n",
       "         -0.02041327,  0.00226337,  0.00226831,  0.00227928,  0.00226304],\n",
       "        [-0.03410652,  0.00486639,  0.00489209,  0.00489372,  0.00490553,\n",
       "         -0.00503533,  0.00490706,  0.00487399,  0.00490805,  0.00489502],\n",
       "        [ 0.00151012,  0.00473166,  0.00474031,  0.00477274, -0.039627  ,\n",
       "          0.00476856,  0.00477944,  0.00478546,  0.00477548,  0.00476324],\n",
       "        [-0.00422444,  0.00261199,  0.00261859,  0.00263294, -0.01680693,\n",
       "          0.00262856,  0.00263821,  0.00263595,  0.00263565,  0.00262947],\n",
       "        [-0.00274592,  0.0003036 ,  0.00030518,  0.00030527,  0.00030587,\n",
       "          0.00030383,  0.00030658,  0.00030383,  0.00030612,  0.00030565],\n",
       "        [-0.05645783,  0.00699618,  0.00703286,  0.00703506,  0.00705037,\n",
       "          0.00018352,  0.00706002,  0.00700415,  0.0070551 ,  0.00704056],\n",
       "        [ 0.00278547,  0.00278315,  0.00279861,  0.0028    ,  0.00281178,\n",
       "         -0.02516541,  0.00279027,  0.00279637,  0.00280989,  0.00278987],\n",
       "        [ 0.        ,  0.        ,  0.        ,  0.        ,  0.        ,\n",
       "          0.        ,  0.        ,  0.        ,  0.        ,  0.        ],\n",
       "        [-0.00950861,  0.00181791,  0.00182761,  0.00182829,  0.00183343,\n",
       "         -0.00511251,  0.00183076,  0.00182203,  0.00183389,  0.0018272 ],\n",
       "        [-0.00262409,  0.00272193,  0.00273686,  0.00273811,  0.00274843,\n",
       "         -0.01926492,  0.00273276,  0.00273272,  0.00274738,  0.00273081],\n",
       "        [-0.01152765,  0.00849208,  0.00852055,  0.00855535, -0.0370792 ,\n",
       "         -0.01119201,  0.00856257,  0.00855796,  0.0085698 ,  0.00854055],\n",
       "        [-0.02890261,  0.0058239 ,  0.00585238,  0.00585918, -0.00091908,\n",
       "         -0.01115654,  0.00586904,  0.00584272,  0.00587513,  0.00585587],\n",
       "        [-0.03663098,  0.01400159,  0.01405616,  0.01409903, -0.04028447,\n",
       "         -0.02165244,  0.01411492,  0.01408788,  0.014128  ,  0.01408032],\n",
       "        [-0.02081637,  0.00912198,  0.00915307,  0.00918892, -0.03783262,\n",
       "         -0.00558647,  0.00920231,  0.00918792,  0.00920442,  0.00917685],\n",
       "        [ 0.00346493,  0.00342844,  0.00343385,  0.003459  , -0.03108814,\n",
       "          0.00345695,  0.00346312,  0.00347011,  0.00346043,  0.0034513 ],\n",
       "        [-0.00599547,  0.00066288,  0.00066633,  0.00066653,  0.00066783,\n",
       "          0.00066339,  0.00066939,  0.00066338,  0.00066838,  0.00066736],\n",
       "        [ 0.00223956,  0.00221597,  0.00221947,  0.00223573, -0.02009381,\n",
       "          0.0022344 ,  0.00223839,  0.0022429 ,  0.00223665,  0.00223075],\n",
       "        [ 0.00013612,  0.00013468,  0.0001349 ,  0.00013589, -0.00122128,\n",
       "          0.0001358 ,  0.00013605,  0.00013632,  0.00013594,  0.00013558],\n",
       "        [ 0.        ,  0.        ,  0.        ,  0.        ,  0.        ,\n",
       "          0.        ,  0.        ,  0.        ,  0.        ,  0.        ],\n",
       "        [ 0.00112253,  0.0011216 ,  0.00112783,  0.00112839,  0.00113314,\n",
       "         -0.01014155,  0.00112447,  0.00112692,  0.00113237,  0.00112431],\n",
       "        [-0.00578246,  0.00776705,  0.00780972,  0.00781332,  0.00784315,\n",
       "         -0.05667761,  0.00779673,  0.00779853,  0.0078399 ,  0.00779167],\n",
       "        [ 0.        ,  0.        ,  0.        ,  0.        ,  0.        ,\n",
       "          0.        ,  0.        ,  0.        ,  0.        ,  0.        ],\n",
       "        [ 0.        ,  0.        ,  0.        ,  0.        ,  0.        ,\n",
       "          0.        ,  0.        ,  0.        ,  0.        ,  0.        ],\n",
       "        [-0.0101114 ,  0.00111795,  0.00112377,  0.0011241 ,  0.0011263 ,\n",
       "          0.00111882,  0.00112894,  0.00111879,  0.00112722,  0.00112551],\n",
       "        [ 0.00545977,  0.00544054,  0.0054648 ,  0.00547776, -0.00960915,\n",
       "         -0.03412943,  0.00546579,  0.00547747,  0.0054924 ,  0.00546005],\n",
       "        [-0.00760688,  0.0033679 ,  0.00338623,  0.00338768,  0.00339947,\n",
       "         -0.01947796,  0.00338446,  0.00337952,  0.00339882,  0.00338078],\n",
       "        [ 0.        ,  0.        ,  0.        ,  0.        ,  0.        ,\n",
       "          0.        ,  0.        ,  0.        ,  0.        ,  0.        ],\n",
       "        [-0.01537265,  0.00352848,  0.00354089,  0.00355351, -0.01301903,\n",
       "          0.00354363,  0.00356364,  0.00354989,  0.00355945,  0.00355219],\n",
       "        [ 0.00130805,  0.00130696,  0.00131422,  0.00131487,  0.00132041,\n",
       "         -0.01181764,  0.00131031,  0.00131317,  0.00131952,  0.00131012],\n",
       "        [-0.00715565,  0.00170734,  0.00171426,  0.00171882, -0.00401296,\n",
       "         -0.00085054,  0.00172243,  0.00171613,  0.00172243,  0.00171773],\n",
       "        [ 0.00101876,  0.00100803,  0.00100962,  0.00101702, -0.00914054,\n",
       "          0.00101641,  0.00101823,  0.00102028,  0.00101744,  0.00101475]]),\n",
       " 'b1': array([ 0.00620054,  0.00130976, -0.00354023, -0.00987777, -0.00467663,\n",
       "         0.00581978, -0.00027277, -0.01264975, -0.00158814, -0.00104658,\n",
       "         0.        , -0.00084789,  0.        ,  0.00370531, -0.00220534,\n",
       "        -0.00121221,  0.00060035,  0.        , -0.00109112, -0.00230989,\n",
       "         0.00375223, -0.00019826,  0.00073041, -0.0008593 ,  0.00702561,\n",
       "        -0.00300455,  0.        ,  0.00014251, -0.00331818,  0.00226048,\n",
       "        -0.00028517, -0.00393715, -0.00148579,  0.00126313, -0.0024031 ,\n",
       "         0.00192405, -0.00179268,  0.        , -0.00251857,  0.00284997,\n",
       "         0.        ,  0.        ,  0.00513044, -0.00025422, -0.00077491,\n",
       "         0.        ,  0.00014532,  0.00459566,  0.00112594,  0.00047063]),\n",
       " 'b2': array([-0.23350813,  0.09946017,  0.09986964,  0.1001387 , -0.23309475,\n",
       "        -0.23346501,  0.10020606,  0.1000448 ,  0.10036306,  0.09998545])}"
      ]
     },
     "execution_count": 135,
     "metadata": {},
     "output_type": "execute_result"
    }
   ],
   "source": []
  }
 ],
 "metadata": {
  "kernelspec": {
   "display_name": "Python 3",
   "language": "python",
   "name": "python3"
  },
  "language_info": {
   "codemirror_mode": {
    "name": "ipython",
    "version": 3
   },
   "file_extension": ".py",
   "mimetype": "text/x-python",
   "name": "python",
   "nbconvert_exporter": "python",
   "pygments_lexer": "ipython3",
   "version": "3.6.1"
  }
 },
 "nbformat": 4,
 "nbformat_minor": 2
}
